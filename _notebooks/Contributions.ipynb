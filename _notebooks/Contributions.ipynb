{
 "cells": [
  {
   "cell_type": "markdown",
   "metadata": {},
   "source": [
    "## Tri 2 GAME CONTRIBUTIONS"
   ]
  },
  {
   "cell_type": "markdown",
   "metadata": {},
   "source": [
    "#### 1. Learning and applying the use of local storage in the leaderboard"
   ]
  },
  {
   "cell_type": "markdown",
   "metadata": {},
   "source": [
    "Local storage is used in order to save the scores from the game onto your device, We then use this to link your score to the leaderboard table which can be accsessed even if you close the game"
   ]
  },
  {
   "cell_type": "code",
   "execution_count": null,
   "metadata": {
    "vscode": {
     "languageId": "javascript"
    }
   },
   "outputs": [],
   "source": [
    "if (id.hidden == false) {\n",
    "            this.stopTimer();\n",
    "            // Get the current user ID from SettingsControl\n",
    "            const userID = GameEnv.userID\n",
    "    \n",
    "            // Retrieve existing time scores from local storage\n",
    "            const existingTimeScores = JSON.parse(localStorage.getItem('timeScores')) || [];\n",
    "        \n",
    "            // Add the new time score with user ID to the array\n",
    "            const newTimeScore = {\n",
    "                userID: userID,\n",
    "                time: elapsedTime.toFixed(2),\n",
    "                // You can add more properties if needed\n",
    "            };\n",
    "            existingTimeScores.push(newTimeScore);\n",
    "\n",
    "            // Log the updated array to the console for debugging\n",
    "            console.log(existingTimeScores);\n",
    "\n",
    "            // Save the updated array to local storage\n",
    "            localStorage.setItem('timeScores', JSON.stringify(existingTimeScores));\n",
    "        \n",
    "        }"
   ]
  },
  {
   "cell_type": "markdown",
   "metadata": {},
   "source": [
    "Shown above is an example of a function I created to save your scores into a variable called \"elapsed time\" which is then saved into local storage or used in other files like leaderboard.js to add to the leaderboard table."
   ]
  },
  {
   "cell_type": "markdown",
   "metadata": {},
   "source": [
    "#### 2. Crerating Multiplayer Leaderboard --> Figuring out the scores"
   ]
  },
  {
   "cell_type": "markdown",
   "metadata": {},
   "source": [
    "in the creation of the multiplayer vs single player leaderboard, we first started by editing the regular leaderboard to make it multiplayer. To do this I collaborated with Trystan (someone from multiplayer group) and learned about the socket functions he created to allow you to send things through computers connected by one common server."
   ]
  },
  {
   "cell_type": "markdown",
   "metadata": {},
   "source": [
    "STEP 1: we added to the exsisting timer update function to implement this line of code"
   ]
  },
  {
   "cell_type": "code",
   "execution_count": null,
   "metadata": {
    "vscode": {
     "languageId": "javascript"
    }
   },
   "outputs": [],
   "source": [
    "Socket.sendData(\"leaderboard\",elapsedTime.toFixed(2));"
   ]
  },
  {
   "cell_type": "markdown",
   "metadata": {},
   "source": [
    "this line of code allows the user to (after making it to the end of the game) share their scores with other players computers. In order for the other players to recive this data we needed to use a listener so their computers could listen for the data, pick up the scores, and save the data to their leaderboards."
   ]
  },
  {
   "cell_type": "code",
   "execution_count": null,
   "metadata": {
    "vscode": {
     "languageId": "javascript"
    }
   },
   "outputs": [],
   "source": [
    "Socket.createListener(\"leaderboardUpdate\",this.handleLeaderboardUpdates)"
   ]
  },
  {
   "cell_type": "markdown",
   "metadata": {},
   "source": [
    "finally we needed to create a diffrence between the mutliplayer and singleplayer leaderboard.  To do this we used sass, duplicated the current leaderboard we had, and changed the code to work for two leaderboards not just one.  "
   ]
  },
  {
   "cell_type": "code",
   "execution_count": null,
   "metadata": {
    "vscode": {
     "languageId": "javascript"
    }
   },
   "outputs": [],
   "source": [
    "updateTimer() {\n",
    "    const id = document.getElementById(\"gameOver\");\n",
    "\n",
    "    const elapsedTime = (Date.now() - this.startTime) / 1000;\n",
    "\n",
    "    if (id.hidden == false) {\n",
    "        this.stopTimer();\n",
    "        // Get the current user ID from SettingsControl\n",
    "        const userID = GameEnv.userID\n",
    "\n",
    "        // Retrieve existing time scores from local storage\n",
    "        const existingTimeScores = JSON.parse(localStorage.getItem('timeScores')) || [];\n",
    "        const existingTimeScores2 = JSON.parse(localStorage.getItem('GtimeScores')) || [];\n",
    "    \n",
    "        // Add the new time score with user ID to the array\n",
    "        const newTimeScore = {\n",
    "            userID: userID,\n",
    "            time: elapsedTime.toFixed(2),\n",
    "            // You can add more properties if needed\n",
    "        };\n",
    "        existingTimeScores.push(newTimeScore);\n",
    "        existingTimeScores2.push(newTimeScore);\n",
    "\n",
    "        // Log the updated array to the console for debugging\n",
    "        console.log(existingTimeScores);\n",
    "\n",
    "        // Save the updated array to local storage\n",
    "        localStorage.setItem('timeScores', JSON.stringify(existingTimeScores));\n",
    "        localStorage.setItem('GtimeScores', JSON.stringify(existingTimeScores2));\n",
    "\n",
    "        Socket.sendData(\"leaderboard\",elapsedTime.toFixed(2));\n",
    "    \n",
    "    },\n",
    "}"
   ]
  },
  {
   "cell_type": "markdown",
   "metadata": {},
   "source": [
    "in the end, our final update timer function consisted of this shown above.  We duplicated the leaderboard varriables and created a new one for the global/server leaderboard, versus the Local/personal leaderboard.  Then we could tell the function to only send the data from the Multiplayer leaderboard."
   ]
  },
  {
   "cell_type": "markdown",
   "metadata": {},
   "source": [
    "our final issue was with the sass and the way the leaderboards looked.  We wanted to make it so that instead of having a button to switch between the two leaderboards or two buttons for both leaderboards it would imedietly toggle to the multiplayer or singleplayer depending on weather or not you had multiplayer on or off."
   ]
  },
  {
   "cell_type": "markdown",
   "metadata": {},
   "source": [
    "To do this we implemented an If statment saying that if multiplayer was on then the leaderboard would change to multiplayer, and vice versa."
   ]
  }
 ],
 "metadata": {
  "kernelspec": {
   "display_name": "Python 3",
   "language": "python",
   "name": "python3"
  },
  "language_info": {
   "codemirror_mode": {
    "name": "ipython",
    "version": 3
   },
   "file_extension": ".py",
   "mimetype": "text/x-python",
   "name": "python",
   "nbconvert_exporter": "python",
   "pygments_lexer": "ipython3",
   "version": "3.10.12"
  }
 },
 "nbformat": 4,
 "nbformat_minor": 2
}
